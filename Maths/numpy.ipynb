{
 "cells": [
  {
   "cell_type": "code",
   "execution_count": 10,
   "id": "a5fba480",
   "metadata": {},
   "outputs": [
    {
     "name": "stdout",
     "output_type": "stream",
     "text": [
      "[10 20 30 40]\n",
      "[20 40 60 80]\n",
      "[[1 2 3]\n",
      " [4 5 6]\n",
      " [7 8 9]]\n"
     ]
    }
   ],
   "source": [
    "import numpy as np\n",
    "np_arr_1d_1=np.array([10,20,30,40])\n",
    "np_arr_1d_2=np.array([10,20,30,40])\n",
    "print(np_arr_1d_1)\n",
    "print(np.add(np_arr_1d_1,np_arr_1d_2))\n",
    "np_array_2d=np.array([[1,2,3],[4,5,6],[7,8,9]])\n",
    "print(np_array_2d)"
   ]
  },
  {
   "cell_type": "code",
   "execution_count": 22,
   "id": "0085fe0d",
   "metadata": {},
   "outputs": [
    {
     "data": {
      "text/plain": [
       "list"
      ]
     },
     "execution_count": 22,
     "metadata": {},
     "output_type": "execute_result"
    }
   ],
   "source": [
    "import numpy as np\n",
    "np_arr_1d_1=[1,2,3,4,5]\n",
    "x=np.array(np_arr_1d_1)\n",
    "# print(x)\n",
    "type(x)\n",
    "type(np_arr_1d_1)"
   ]
  },
  {
   "cell_type": "code",
   "execution_count": 29,
   "id": "f7017ca1",
   "metadata": {},
   "outputs": [
    {
     "name": "stdout",
     "output_type": "stream",
     "text": [
      "[[0. 0. 0. 0. 0. 0. 0. 0. 0. 0.]\n",
      " [0. 0. 0. 0. 0. 0. 0. 0. 0. 0.]\n",
      " [0. 0. 0. 0. 0. 0. 0. 0. 0. 0.]\n",
      " [0. 0. 0. 0. 0. 0. 0. 0. 0. 0.]\n",
      " [0. 0. 0. 0. 0. 0. 0. 0. 0. 0.]\n",
      " [0. 0. 0. 0. 0. 0. 0. 0. 0. 0.]\n",
      " [0. 0. 0. 0. 0. 0. 0. 0. 0. 0.]\n",
      " [0. 0. 0. 0. 0. 0. 0. 0. 0. 0.]\n",
      " [0. 0. 0. 0. 0. 0. 0. 0. 0. 0.]\n",
      " [0. 0. 0. 0. 0. 0. 0. 0. 0. 0.]]\n",
      "[1. 1. 1.]\n",
      "[[4 4 4]\n",
      " [4 4 4]]\n"
     ]
    }
   ],
   "source": [
    "import numpy as np\n",
    "print(np.zeros((10,10)))\n",
    "\n",
    "print(np.ones(3))\n",
    "\n",
    "print(np.full((2,3),4))\n"
   ]
  },
  {
   "cell_type": "code",
   "execution_count": 35,
   "id": "3de1fc19",
   "metadata": {},
   "outputs": [
    {
     "name": "stdout",
     "output_type": "stream",
     "text": [
      "[0 1 2 3]\n",
      "[2 4 6]\n"
     ]
    }
   ],
   "source": [
    "import numpy as np\n",
    "print(np.arange(4))\n",
    "print(np.arange(2,7,2))\n"
   ]
  },
  {
   "cell_type": "code",
   "execution_count": 38,
   "id": "6f01b537",
   "metadata": {},
   "outputs": [
    {
     "name": "stdout",
     "output_type": "stream",
     "text": [
      "[[1. 0. 0. 0.]\n",
      " [0. 1. 0. 0.]\n",
      " [0. 0. 1. 0.]\n",
      " [0. 0. 0. 1.]]\n"
     ]
    }
   ],
   "source": [
    "import numpy as np\n",
    "print(np.eye(4))"
   ]
  },
  {
   "cell_type": "code",
   "execution_count": 43,
   "id": "ff78f17a",
   "metadata": {},
   "outputs": [
    {
     "name": "stdout",
     "output_type": "stream",
     "text": [
      "(39,)\n",
      "(39,)\n"
     ]
    }
   ],
   "source": [
    "import numpy as np\n",
    "mt=np.arange(3,42,1)\n",
    "print(np.shape(mt))\n",
    "print(mt.shape)"
   ]
  },
  {
   "cell_type": "code",
   "execution_count": 72,
   "id": "b6ce2f59",
   "metadata": {},
   "outputs": [
    {
     "name": "stdout",
     "output_type": "stream",
     "text": [
      "[[3.   4.   5.   6.  ]\n",
      " [3.65 4.   5.   1.  ]]\n",
      "8\n",
      "2\n",
      "float64\n",
      "[[3 4 5 6]\n",
      " [4 4 5 1]]\n"
     ]
    }
   ],
   "source": [
    "from math import ceil\n",
    "import numpy as np\n",
    "mt=np.array([[3,4,5,6],[3.65,4,5,1]])\n",
    "print(mt)\n",
    "print(mt.size)\n",
    "print(mt.ndim)\n",
    "print(mt.dtype)\n",
    "xx=np.ceil(mt)\n",
    "print(xx.astype(int))"
   ]
  },
  {
   "cell_type": "code",
   "execution_count": null,
   "id": "1122f0f4",
   "metadata": {},
   "outputs": [
    {
     "name": "stdout",
     "output_type": "stream",
     "text": [
      "[[4 4 4 4 4]\n",
      " [4 4 4 4 4]\n",
      " [4 4 4 4 4]\n",
      " [4 4 4 4 4]]\n",
      "[[4 4 4 4 4]\n",
      " [4 4 4 4 4]\n",
      " [4 4 4 4 4]\n",
      " [4 4 4 4 4]]\n",
      "[[0 0 0 0 0]\n",
      " [0 0 0 0 0]\n",
      " [0 0 0 0 0]\n",
      " [0 0 0 0 0]]\n"
     ]
    }
   ],
   "source": [
    "import numpy as np\n",
    "mt=np.array([[3,3,53,6],[5,7,8,9]])\n",
    "print(mt+2)\n",
    "print(mt**2)\n",
    "print(mt-2)\n"
   ]
  },
  {
   "cell_type": "code",
   "execution_count": 78,
   "id": "849297a7",
   "metadata": {},
   "outputs": [
    {
     "name": "stdout",
     "output_type": "stream",
     "text": [
      "48\n",
      "3.0\n",
      "3.0\n",
      "0.0\n",
      "0.0\n",
      "3\n"
     ]
    }
   ],
   "source": [
    "import numpy as np\n",
    "mt=np.full((4,4),3)\n",
    "print(np.sum(mt))\n",
    "print(np.average(mt))\n",
    "print(np.mean(mt))\n",
    "print(np.std(mt))\n",
    "print(np.var(mt))\n",
    "print(np.max(mt))\n"
   ]
  },
  {
   "cell_type": "code",
   "execution_count": null,
   "id": "2c8c22a1",
   "metadata": {},
   "outputs": [
    {
     "name": "stdout",
     "output_type": "stream",
     "text": [
      "5\n",
      "[6 5 6]\n",
      "[4 5 7]\n",
      "[5 6 7 8 6]\n",
      "[76  5  6  8  7  6  5  6  4  3]\n",
      "[ 4  6  6  8  6 76]\n"
     ]
    }
   ],
   "source": [
    "import numpy as np\n",
    "mt=np.array([3,4,6,5,6,7,8,6,5,76])\n",
    "print(mt[3])\n",
    "print(mt[[2,3,4]])\n",
    "print(mt[1:6:2])\n",
    "print(mt[-7:-2])\n",
    "print(mt[::-1])\n",
    "print(mt[mt%2==0])\n",
    "\n"
   ]
  },
  {
   "cell_type": "code",
   "execution_count": 112,
   "id": "96d1ea38",
   "metadata": {},
   "outputs": [
    {
     "name": "stdout",
     "output_type": "stream",
     "text": [
      "1\n",
      "[ 3  4  6  5  6  7  8  6  5 76]\n",
      "[[ 3  4]\n",
      " [ 6  5]\n",
      " [ 6  7]\n",
      " [ 8  6]\n",
      " [ 5 76]]\n",
      "1\n",
      "[[999 999]\n",
      " [  6   5]\n",
      " [  6   7]\n",
      " [  8   6]\n",
      " [  5  76]]\n",
      "[999 999   6   5   6   7   8   6   5  76]\n"
     ]
    },
    {
     "data": {
      "text/plain": [
       "1"
      ]
     },
     "execution_count": 112,
     "metadata": {},
     "output_type": "execute_result"
    }
   ],
   "source": [
    "import numpy as np\n",
    "mt=np.array([3,4,6,5,6,7,8,6,5,76])\n",
    "print(mt.ndim)\n",
    "\n",
    "print(mt)\n",
    "print(mt.reshape(5,2))\n",
    "\n",
    "print(mt.ndim)\n",
    "mt2=mt.reshape(5,2)\n",
    "\n",
    "mt2[0]=999\n",
    "print(mt2)\n",
    "print(mt)\n",
    "mt.ndim\n"
   ]
  },
  {
   "cell_type": "code",
   "execution_count": 137,
   "id": "2ec5b00c",
   "metadata": {},
   "outputs": [
    {
     "name": "stdout",
     "output_type": "stream",
     "text": [
      "[[[1. 1.]\n",
      "  [1. 1.]]\n",
      "\n",
      " [[1. 1.]\n",
      "  [1. 1.]]]\n",
      "hio\n",
      "[1. 1. 1. 1. 1. 1. 1. 1.]\n",
      "[[[  1.   1.]\n",
      "  [333.   1.]]\n",
      "\n",
      " [[  1.   1.]\n",
      "  [  1.   1.]]]\n",
      "[  1.   1. 333.   1.   1.   1.   1.   1.]\n",
      "[[[1. 1.]\n",
      "  [1. 1.]]\n",
      "\n",
      " [[1. 1.]\n",
      "  [1. 1.]]]\n",
      "[  1.   1. 333.   1.   1.   1.   1.   1.]\n"
     ]
    }
   ],
   "source": [
    "import numpy as np\n",
    "mt2=np.ones((2,2,2))\n",
    "mt1=mt2.ravel()\n",
    "print(mt2)\n",
    "print(\"hio\")\n",
    "print(mt1)\n",
    "mt1[2]=333\n",
    "print(mt2)\n",
    "print(mt1)\n",
    "mt2=np.ones((2,2,2))\n",
    "\n",
    "mt1=mt2.flatten()\n",
    "mt1[2]=333\n",
    "print(mt2)\n",
    "print(mt1)"
   ]
  },
  {
   "cell_type": "code",
   "execution_count": 164,
   "id": "467f84e4",
   "metadata": {},
   "outputs": [
    {
     "name": "stdout",
     "output_type": "stream",
     "text": [
      "int32\n",
      "[0 0 5 0 0 0 0 0 0 0]\n",
      "[[0. 0. 0.]\n",
      " [0. 0. 0.]\n",
      " [5. 5. 5.]\n",
      " [0. 0. 0.]\n",
      " [5. 5. 5.]]\n",
      "[[0. 0. 5. 0. 5.]\n",
      " [0. 0. 5. 0. 5.]\n",
      " [0. 0. 5. 0. 5.]]\n",
      "[[0. 0.]\n",
      " [5. 0.]\n",
      " [5. 0.]\n",
      " [0. 5.]\n",
      " [0. 5.]\n",
      " [0. 0.]\n",
      " [5. 0.]\n",
      " [5. 3.]\n",
      " [5. 6.]]\n"
     ]
    }
   ],
   "source": [
    "import numpy as np\n",
    "mt=np.zeros((3,3))\n",
    "mt=mt.astype(int)\n",
    "print(mt.dtype)\n",
    "mt=np.insert(mt,2,5)\n",
    "print(mt)\n",
    "\n",
    "mt=np.zeros((3,3))\n",
    "\n",
    "mt=np.insert(mt,[2,3],5,axis=0)\n",
    "print(mt)\n",
    "\n",
    "mt=np.zeros((3,3))\n",
    "\n",
    "mt=np.insert(mt,[2,3],5,axis=1)\n",
    "print(mt)\n",
    "\n",
    "mt=np.append(mt,[3,5,6])\n",
    "print(mt.reshape(9,2))"
   ]
  },
  {
   "cell_type": "code",
   "execution_count": 175,
   "id": "e3bf9c91",
   "metadata": {},
   "outputs": [
    {
     "name": "stdout",
     "output_type": "stream",
     "text": [
      "[ 2  3  4  5  7 32  9 52]\n",
      "[4 5]\n"
     ]
    },
    {
     "data": {
      "text/plain": [
       "array([[4, 5],\n",
       "       [7, 8]])"
      ]
     },
     "execution_count": 175,
     "metadata": {},
     "output_type": "execute_result"
    }
   ],
   "source": [
    "import numpy as np\n",
    "mt1=np.array([2,3,4,5])\n",
    "mt2=np.array([7,32,9,52])\n",
    "arr=np.concatenate((mt1,mt2))\n",
    "print(arr)\n",
    "\n",
    "arr2=np.array([3,4,5])\n",
    "print(np.delete(arr2,[0]))\n",
    "\n",
    "arr2=np.array([[3,4,5],[6,7,8]])\n",
    "np.delete(arr2,[0],axis=1)"
   ]
  },
  {
   "cell_type": "code",
   "execution_count": 179,
   "id": "c8b4b256",
   "metadata": {},
   "outputs": [
    {
     "name": "stdout",
     "output_type": "stream",
     "text": [
      "[[ 2  3  4  5]\n",
      " [ 7 32  9 52]]\n",
      "[ 2  3  4  5  7 32  9 52]\n"
     ]
    }
   ],
   "source": [
    "import numpy as np\n",
    "mt1=np.array([2,3,4,5])\n",
    "mt2=np.array([7,32,9,52])\n",
    "\n",
    "print(np.vstack((mt1,mt2)))\n",
    "print(np.hstack((mt1,mt2)))"
   ]
  },
  {
   "cell_type": "code",
   "execution_count": 196,
   "id": "a5151caf",
   "metadata": {},
   "outputs": [
    {
     "name": "stdout",
     "output_type": "stream",
     "text": [
      "[array([2, 3]), array([7, 8]), array([5, 3]), array([4, 5])]\n",
      "[2 3 7 8 5 3 4 5]\n",
      "[2 3 7 8 5 3 4 5]\n",
      "x=[2 3 7 8],y=[5 3 4 5]\n",
      "[[2 3]\n",
      " [7 8]\n",
      " [5 3]\n",
      " [4 5]]\n",
      "[array([[2, 3]]), array([[7, 8]]), array([[5, 3]]), array([[4, 5]])]\n"
     ]
    }
   ],
   "source": [
    "import numpy as np\n",
    "mt1=np.array([2,3,7,8,5,3,4,5])\n",
    "print(np.split(mt1,4))\n",
    "print(mt1)\n",
    "x,y=np.hsplit(mt1,2)\n",
    "print(mt1)\n",
    "print(f\"x={x},y={y}\")\n",
    "mt1=mt1.reshape(4,2)\n",
    "print(mt1)\n",
    "\n",
    "print(np.vsplit(mt1,4))"
   ]
  },
  {
   "cell_type": "code",
   "execution_count": 203,
   "id": "79f95cb5",
   "metadata": {},
   "outputs": [
    {
     "name": "stdout",
     "output_type": "stream",
     "text": [
      "[[ 4  5  9 10]\n",
      " [ 7  5  6  7]]\n",
      "[[ 4  5  9 10]\n",
      " [ 8  6  7  8]]\n"
     ]
    },
    {
     "ename": "ValueError",
     "evalue": "operands could not be broadcast together with shapes (2,4) (2,) ",
     "output_type": "error",
     "traceback": [
      "\u001b[1;31m---------------------------------------------------------------------------\u001b[0m",
      "\u001b[1;31mValueError\u001b[0m                                Traceback (most recent call last)",
      "Cell \u001b[1;32mIn[203], line 8\u001b[0m\n\u001b[0;32m      6\u001b[0m \u001b[38;5;28mprint\u001b[39m(mt1\u001b[38;5;241m+\u001b[39mmt2)\n\u001b[0;32m      7\u001b[0m mt2\u001b[38;5;241m=\u001b[39mnp\u001b[38;5;241m.\u001b[39marray([\u001b[38;5;241m2\u001b[39m,\u001b[38;5;241m3\u001b[39m])\n\u001b[1;32m----> 8\u001b[0m \u001b[38;5;28mprint\u001b[39m(\u001b[43mmt1\u001b[49m\u001b[38;5;241;43m+\u001b[39;49m\u001b[43mmt2\u001b[49m)\n",
      "\u001b[1;31mValueError\u001b[0m: operands could not be broadcast together with shapes (2,4) (2,) "
     ]
    }
   ],
   "source": [
    "import numpy as np\n",
    "mt1=np.array([[2,3,7,8],[5,3,4,5]])\n",
    "mt2=np.array([2])\n",
    "print(mt1+mt2)\n",
    "mt2=np.array([[2],[3]])\n",
    "print(mt1+mt2)\n",
    "mt2=np.array([2,3])\n",
    "print(mt1+mt2)\n"
   ]
  },
  {
   "cell_type": "code",
   "execution_count": 223,
   "id": "ed71aff8",
   "metadata": {},
   "outputs": [
    {
     "name": "stdout",
     "output_type": "stream",
     "text": [
      "0.08853550005005673\n",
      "0.003599800053052604\n"
     ]
    }
   ],
   "source": [
    "import timeit\n",
    "a = [1, 2, 3, 4, 5,5,5,5,5,5,5,5,5,5,5,5,5,5,5,5,5,6,6,6,6,6,6,6,76,7,7,7,7,7,7,7,7,77,7,7,7,7,7]\n",
    "b = [1, 2, 3, 4, 6,6,6,6,6,6,6,6,6,6,6,6,6,6,6,6,6,6,7,7,7,7,7,7,34,5,5,5,5,5,4,2,2,2,2,2,2,2,2,2]\n",
    "\n",
    "print(timeit.timeit('[x ** y for x, y in zip(a, b)]', globals=globals(), number=10000))\n",
    "\n",
    "import numpy as np\n",
    "a = np.array([1, 2, 3, 4])\n",
    "b = np.array([1, 2, 3, 4])\n",
    "print(timeit.timeit('a ** b', globals=globals(), number=10000))"
   ]
  },
  {
   "cell_type": "code",
   "execution_count": 15,
   "id": "51edf55b",
   "metadata": {},
   "outputs": [
    {
     "name": "stdout",
     "output_type": "stream",
     "text": [
      "[2, 5]\n"
     ]
    }
   ],
   "source": [
    "import numpy as np\n",
    "mt = np.array([1, 2, np.nan, 4, 5, np.nan, 7])\n",
    "null_idx = np.where(np.isnan(mt))[0].tolist()\n",
    "notnullmt = np.nan_to_num(mt, nan=1)\n",
    "print(null_idx)\n"
   ]
  },
  {
   "cell_type": "code",
   "execution_count": 18,
   "id": "bb077d86",
   "metadata": {},
   "outputs": [
    {
     "name": "stdout",
     "output_type": "stream",
     "text": [
      "[False False  True False False  True False]\n"
     ]
    },
    {
     "data": {
      "text/plain": [
       "array([    1.,     2.,  1000.,     4.,     5., -1000.,     7.])"
      ]
     },
     "execution_count": 18,
     "metadata": {},
     "output_type": "execute_result"
    }
   ],
   "source": [
    "import numpy as np\n",
    "mt = np.array([1, 2, np.inf, 4, 5, -np.inf, 7])\n",
    "print(np.isinf(mt))\n",
    "new_arr=np.nan_to_num(mt,posinf=1000,neginf=-1000)\n",
    "new_arr"
   ]
  },
  {
   "cell_type": "code",
   "execution_count": 20,
   "id": "b88f2260",
   "metadata": {},
   "outputs": [
    {
     "name": "stdout",
     "output_type": "stream",
     "text": [
      "Determinant of A: -2.0000000000000004\n",
      "Inverse of A:\n",
      " [[-2.   1. ]\n",
      " [ 1.5 -0.5]]\n",
      "Eigenvalues of A: [-0.37228132  5.37228132]\n",
      "Eigenvectors of A:\n",
      " [[-0.82456484 -0.41597356]\n",
      " [ 0.56576746 -0.90937671]]\n",
      "Solution x of Ax = b: [-4.   4.5]\n",
      "Singular values of A: [5.4649857  0.36596619]\n"
     ]
    }
   ],
   "source": [
    "import numpy as np\n",
    "\n",
    "# Example usage of numpy.linalg module\n",
    "\n",
    "# Create a 2x2 matrix\n",
    "A = np.array([[1, 2], [3, 4]])\n",
    "\n",
    "# Compute the determinant\n",
    "det_A = np.linalg.det(A)\n",
    "print(\"Determinant of A:\", det_A)\n",
    "\n",
    "# Compute the inverse\n",
    "inv_A = np.linalg.inv(A)\n",
    "print(\"Inverse of A:\\n\", inv_A)\n",
    "\n",
    "# Compute the eigenvalues and eigenvectors\n",
    "eigvals, eigvecs = np.linalg.eig(A)\n",
    "print(\"Eigenvalues of A:\", eigvals)\n",
    "print(\"Eigenvectors of A:\\n\", eigvecs)\n",
    "\n",
    "# Solve a linear system Ax = b\n",
    "b = np.array([5, 6])\n",
    "x = np.linalg.solve(A, b)\n",
    "print(\"Solution x of Ax = b:\", x)\n",
    "\n",
    "# Compute the singular value decomposition\n",
    "U, s, Vh = np.linalg.svd(A)\n",
    "print(\"Singular values of A:\", s)\n"
   ]
  },
  {
   "cell_type": "code",
   "execution_count": null,
   "id": "521f9e36",
   "metadata": {},
   "outputs": [],
   "source": []
  }
 ],
 "metadata": {
  "kernelspec": {
   "display_name": "Python 3",
   "language": "python",
   "name": "python3"
  },
  "language_info": {
   "codemirror_mode": {
    "name": "ipython",
    "version": 3
   },
   "file_extension": ".py",
   "mimetype": "text/x-python",
   "name": "python",
   "nbconvert_exporter": "python",
   "pygments_lexer": "ipython3",
   "version": "3.10.9"
  }
 },
 "nbformat": 4,
 "nbformat_minor": 5
}
